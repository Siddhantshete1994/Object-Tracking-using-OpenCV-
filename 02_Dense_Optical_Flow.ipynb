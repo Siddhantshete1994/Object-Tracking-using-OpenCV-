{
 "cells": [
  {
   "cell_type": "code",
   "execution_count": 7,
   "metadata": {},
   "outputs": [],
   "source": [
    "import cv2\n",
    "import numpy as np\n",
    "\n",
    "cap = cv2.VideoCapture('Video/chaplin.mp4')\n",
    "\n",
    "#Read and capture first frame\n",
    "ret, first_frame = cap.read()\n",
    "prev_gray = cv2.cvtColor(first_frame, cv2.COLOR_BGR2GRAY)\n",
    "\n",
    "#create an image with same dimensions as the frame for alter drawing purposes\n",
    "mask = np.zeros_like(first_frame)\n",
    "mask[..., 1] = 255  #saturation to max\n",
    "\n",
    "while(cap.isOpened()):\n",
    "    ret, frame = cap.read()\n",
    "    cv2.imshow('input', frame)\n",
    "    \n",
    "    gray = cv2.cvtColor(frame, cv2.COLOR_BGR2GRAY)\n",
    "    flow = cv2.calcOpticalFlowFarneback(prev_gray, gray, None, 0.5, 3, 15, 3, 5, 1.2, 0)\n",
    "    \n",
    "    #compute magnitude and angle\n",
    "    magn, angle = cv2.cartToPolar(flow[..., 0], flow[..., 1])\n",
    "    \n",
    "    #Set image hue depending on optical flow direction\n",
    "    mask[..., 2] = cv2.normalize(magn, None, 0, 255, cv2.NORM_MINMAX)\n",
    "    \n",
    "    #Convert HSV to RGB\n",
    "    rgb = cv2.cvtColor(mask, cv2.COLOR_HSV2RGB)\n",
    "    \n",
    "    cv2.imshow(\"Dense Optical Flow\", rgb)\n",
    "    \n",
    "    if cv2.waitKey(30) & 0xFF == ord('q'):\n",
    "        break\n",
    "        \n",
    "cap.release()\n",
    "cv2.destroyAllWindows()\n",
    "    \n",
    "    \n",
    "    "
   ]
  },
  {
   "cell_type": "code",
   "execution_count": null,
   "metadata": {},
   "outputs": [],
   "source": []
  }
 ],
 "metadata": {
  "kernelspec": {
   "display_name": "Python 3",
   "language": "python",
   "name": "python3"
  },
  "language_info": {
   "codemirror_mode": {
    "name": "ipython",
    "version": 3
   },
   "file_extension": ".py",
   "mimetype": "text/x-python",
   "name": "python",
   "nbconvert_exporter": "python",
   "pygments_lexer": "ipython3",
   "version": "3.6.9"
  }
 },
 "nbformat": 4,
 "nbformat_minor": 4
}
