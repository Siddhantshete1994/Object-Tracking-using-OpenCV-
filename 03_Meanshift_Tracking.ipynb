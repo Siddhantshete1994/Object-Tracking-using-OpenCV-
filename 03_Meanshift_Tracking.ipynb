{
 "cells": [
  {
   "cell_type": "code",
   "execution_count": 5,
   "metadata": {},
   "outputs": [],
   "source": [
    "import cv2\n",
    "import numpy as np\n",
    "\n",
    "cap = cv2.VideoCapture('Video/face_track.mp4')\n",
    "ret, frame = cap.read()\n",
    "\n",
    "#Setup  the initial tracking window\n",
    "face_casc = cv2.CascadeClassifier('Haarcascades/haarcascade_frontalface_default.xml')\n",
    "face_rects = face_casc.detectMultiScale(frame)\n",
    "\n",
    "#Convert the list into a tuple\n",
    "face_x, face_y, w, h =tuple(face_rects[0])\n",
    "track_window = (face_x, face_y, w, h)\n",
    "\n",
    "#Setup the Region Of Interest for tracking\n",
    "roi = frame[face_y:face_y+h, face_x:face_x+w]\n",
    "\n",
    "#HSV color mapping\n",
    "hsv_roi = cv2.cvtColor(roi, cv2.COLOR_BGR2HSV)\n",
    "\n",
    "#Histogram to target on each frame for meanshift calculation\n",
    "roi_hist = cv2.calcHist([hsv_roi], [0], None, [180], [0,180])\n",
    "\n",
    "#Normalise the histogram\n",
    "cv2.normalize(roi_hist, roi_hist, 0, 255, cv2.NORM_MINMAX);\n",
    "\n",
    "term_crit = (cv2.TERM_CRITERIA_EPS | cv2.TERM_CRITERIA_COUNT, 10, 1)\n",
    "\n",
    "while True:\n",
    "    ret, frame = cap.read()\n",
    "    \n",
    "    if ret == True:\n",
    "        hsv = cv2.cvtColor(frame, cv2.COLOR_BGR2HSV)\n",
    "        \n",
    "        dest_roi = cv2.calcBackProject([hsv], [0], roi_hist, [0,180], 1)\n",
    "        \n",
    "        #Meanshift to et new coordinates of rectangle\n",
    "        ret, track_window = cv2.meanShift(dest_roi, track_window, term_crit)\n",
    "        \n",
    "        #Draw new rectangle\n",
    "        x,y,w,h = track_window\n",
    "        \n",
    "        img2 = cv2.rectangle(frame, (x,y), (x+w, y+h), (255, 255, 0), 3)\n",
    "        cv2.imshow('FaceTracker', img2)\n",
    "        \n",
    "        if cv2.waitKey(50) & 0xFF ==27:\n",
    "            break\n",
    "            \n",
    "        else:\n",
    "            break\n",
    "            \n",
    "cap.release()\n",
    "cv2.destroyAllWindows()\n"
   ]
  },
  {
   "cell_type": "code",
   "execution_count": null,
   "metadata": {},
   "outputs": [],
   "source": []
  },
  {
   "cell_type": "code",
   "execution_count": null,
   "metadata": {},
   "outputs": [],
   "source": []
  }
 ],
 "metadata": {
  "kernelspec": {
   "display_name": "Python 3",
   "language": "python",
   "name": "python3"
  },
  "language_info": {
   "codemirror_mode": {
    "name": "ipython",
    "version": 3
   },
   "file_extension": ".py",
   "mimetype": "text/x-python",
   "name": "python",
   "nbconvert_exporter": "python",
   "pygments_lexer": "ipython3",
   "version": "3.6.9"
  }
 },
 "nbformat": 4,
 "nbformat_minor": 4
}
